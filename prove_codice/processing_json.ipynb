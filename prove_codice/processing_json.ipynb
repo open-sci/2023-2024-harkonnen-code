{
 "cells": [
  {
   "cell_type": "code",
   "execution_count": null,
   "metadata": {},
   "outputs": [],
   "source": [
    "import zipfile\n",
    "import gzip\n",
    "import json\n",
    "from concurrent.futures import ThreadPoolExecutor\n",
    "\n",
    "zip_filename = \"chunk1.zip\"\n",
    "\n",
    "def process_json_data(compressed_data):\n",
    "    with gzip.decompress(compressed_data) as decompressed_data:\n",
    "        decoded_data = decompressed_data.decode('utf-8')\n",
    "        json_data = json.loads(decoded_data)\n",
    "        return [item for item in json_data['items'] if item.get('type') == 'peer-review']\n",
    "\n",
    "with zipfile.ZipFile(zip_filename, 'r') as zip_file:\n",
    "    with ThreadPoolExecutor() as executor:\n",
    "        results = []\n",
    "        for file_info in zip_file.infolist():\n",
    "            if file_info.filename.startswith(\"chunk1/\") and file_info.filename.endswith(\".json.gz\"):\n",
    "                with zip_file.open(file_info) as compressed_file:\n",
    "                    compressed_data = compressed_file.read()\n",
    "                    results.append(executor.submit(process_json_data, compressed_data))\n",
    "        \n",
    "        peer_review_items = []\n",
    "        for result in results:\n",
    "            peer_review_items.extend(result.result())\n",
    "\n",
    "output_filename = \"peer_review_items.json\"\n",
    "with open(output_filename, 'w') as output_file:\n",
    "    json.dump(peer_review_items, output_file, indent=4)\n",
    "\n",
    "print(\"Peer-reviewed items saved to\", output_filename)\n"
   ]
  }
 ],
 "metadata": {
  "language_info": {
   "name": "python"
  }
 },
 "nbformat": 4,
 "nbformat_minor": 2
}
